{
 "cells": [
  {
   "cell_type": "markdown",
   "id": "0d790095-52ee-4d6e-8197-429599b7b157",
   "metadata": {},
   "source": [
    "### Q1 What is multithreading in python? Why is it used? Name the module used to handle threads in python."
   ]
  },
  {
   "cell_type": "code",
   "execution_count": 1,
   "id": "7910b010-5bb5-47f5-8d8a-0805bd955784",
   "metadata": {},
   "outputs": [
    {
     "data": {
      "text/plain": [
       "' If you whish to save time and improve performance, you should use multithreading in \\npython! Multithreading in python is a popular technique that enables multiple tasks to be\\nexecuted simultaneously.'"
      ]
     },
     "execution_count": 1,
     "metadata": {},
     "output_type": "execute_result"
    }
   ],
   "source": [
    "\"\"\" If you whish to save time and improve performance, you should use multithreading in \n",
    "python! Multithreading in python is a popular technique that enables multiple tasks to be\n",
    "executed simultaneously.\"\"\"\n",
    "# Threading module"
   ]
  },
  {
   "cell_type": "markdown",
   "id": "9e129d16-d7b0-4f6d-aa1a-5aafcb460d9d",
   "metadata": {},
   "source": [
    "### Q2 Why threading module used? Write the use of the following functions:\n",
    "1. activecount()\n",
    "2. currentThread()\n",
    "3. enumerate()"
   ]
  },
  {
   "cell_type": "code",
   "execution_count": 8,
   "id": "4d90ff1b-d32c-4bcd-8e03-157843410635",
   "metadata": {},
   "outputs": [
    {
     "data": {
      "text/plain": [
       "\" threading.activeCount() :- Return the number of thread objects that are active.\\nthreading.currentThread():- Return the number of thread object in the caller's thread control.\\n threading.enumerate() :- Return a list of all thread abjects that are currently active\""
      ]
     },
     "execution_count": 8,
     "metadata": {},
     "output_type": "execute_result"
    }
   ],
   "source": [
    "\"\"\" threading.activeCount() :- Return the number of thread objects that are active.\n",
    "threading.currentThread():- Return the number of thread object in the caller's thread control.\n",
    " threading.enumerate() :- Return a list of all thread abjects that are currently active\"\"\""
   ]
  },
  {
   "cell_type": "markdown",
   "id": "b78c2244-a296-4c76-82d5-8f781421f52f",
   "metadata": {},
   "source": [
    "### Q3 explain the following functions:\n",
    "1. run()\n",
    "2. start()\n",
    "3. join()\n",
    "4. isAlive()"
   ]
  },
  {
   "cell_type": "code",
   "execution_count": 2,
   "id": "8068893b-ad8d-41a1-a0cc-c71e3e2fe200",
   "metadata": {},
   "outputs": [
    {
     "name": "stdout",
     "output_type": "stream",
     "text": [
      "Value by thread 1: 1\n",
      "Value by thread 2: 2\n"
     ]
    }
   ],
   "source": [
    "# Run()\n",
    "import threading\n",
    "\n",
    "def thread_1(i):\n",
    "    print(\"Value by thread 1:\",i)\n",
    "def thread_2(i):\n",
    "    print(\"Value by thread 2:\",i)\n",
    "thread1 = threading.Thread(target=thread_1,args=(1,))\n",
    "thread2 = threading.Thread(target=thread_2,args=(2,))\n",
    "thread1.run()\n",
    "thread2.run()"
   ]
  },
  {
   "cell_type": "code",
   "execution_count": 3,
   "id": "4bf1de1a-1c47-41ad-acc9-e543d04f94ed",
   "metadata": {},
   "outputs": [
    {
     "name": "stdout",
     "output_type": "stream",
     "text": [
      "Vlaue by thread 4 : 2\n",
      "Value by thread 3 : 1\n"
     ]
    }
   ],
   "source": [
    "import time\n",
    "def thread_3(i):\n",
    "    time.sleep(5)\n",
    "    print(\"Value by thread 3 :\",i )\n",
    "def thread_4(i):\n",
    "    print(\"Vlaue by thread 4 :\",i)\n",
    "    \n",
    "thread3 = threading.Thread(target=thread_3,args=(1,))\n",
    "thread4 = threading.Thread(target=thread_4,args=(2,))\n",
    "\n",
    "thread3.start()\n",
    "thread4.start()"
   ]
  },
  {
   "cell_type": "code",
   "execution_count": 6,
   "id": "ad299b2d-64dc-4abc-86a3-3aa85889a51e",
   "metadata": {},
   "outputs": [
    {
     "name": "stdout",
     "output_type": "stream",
     "text": [
      "Value by thread 5 : 1\n",
      "Vlaue by thread 6 : 2\n"
     ]
    }
   ],
   "source": [
    "# Join()\n",
    "import time\n",
    "def thread_5(i):\n",
    "    time.sleep(5)\n",
    "    print(\"Value by thread 5 :\",i )\n",
    "def thread_6(i):\n",
    "    print(\"Vlaue by thread 6 :\",i)\n",
    "    \n",
    "thread5 = threading.Thread(target=thread_5,args=(1,))\n",
    "thread6 = threading.Thread(target=thread_6,args=(2,))\n",
    "\n",
    "thread5.start()\n",
    "thread5.join()\n",
    "thread6.start()\n",
    "thread6.join()"
   ]
  },
  {
   "cell_type": "code",
   "execution_count": 8,
   "id": "a6524c2d-c4bb-45c6-adfa-f926aa54608c",
   "metadata": {},
   "outputs": [
    {
     "name": "stdout",
     "output_type": "stream",
     "text": [
      "is thread7 alive: False\n",
      "is thread8 alive: False\n",
      "\n",
      "Vlaue by thread 8 : 2\n",
      "is thread7 alive: True\n",
      "is thread8 alive: False\n",
      "Value by thread 7 : 1\n"
     ]
    }
   ],
   "source": [
    "# IsAlive()\n",
    "def thread_7(i):\n",
    "    time.sleep(5)\n",
    "    print(\"Value by thread 7 :\",i )\n",
    "def thread_8(i):\n",
    "    print(\"Vlaue by thread 8 :\",i)\n",
    "thread7 = threading.Thread(target=thread_7,args=(1,))\n",
    "thread8 = threading.Thread(target=thread_8,args=(2,))\n",
    "print(\"is thread7 alive:\",thread7.is_alive())\n",
    "print(\"is thread8 alive:\",thread8.is_alive())\n",
    "print()\n",
    "thread7.start()\n",
    "thread8.start()\n",
    "print(\"is thread7 alive:\",thread7.is_alive())\n",
    "print(\"is thread8 alive:\",thread8.is_alive())"
   ]
  },
  {
   "cell_type": "markdown",
   "id": "017feb5b-bf34-4331-9bf8-af433e013a33",
   "metadata": {},
   "source": [
    "### Q4 Write a python program to create two threads. Thread one must print the list of squares and thread two must print the list of cubes."
   ]
  },
  {
   "cell_type": "code",
   "execution_count": 15,
   "id": "fa3b7336-f6d1-4adc-a88d-9accc3dca62c",
   "metadata": {},
   "outputs": [
    {
     "name": "stdout",
     "output_type": "stream",
     "text": [
      "Square: 100\n",
      "Cubes:1000\n"
     ]
    }
   ],
   "source": [
    "import threading\n",
    "def print_square(num):\n",
    "    print(\"Square: {}\".format(num*num))\n",
    "def print_cubes(num):\n",
    "    print(\"Cubes:{}\" .format(num*num*num))\n",
    "if __name__ ==\"__main__\":\n",
    "    t1=threading.Thread(target=print_square,args=(10,))\n",
    "    t2=threading.Thread(target=print_cubes,args=(10,))\n",
    "    \n",
    "    t1.start()\n",
    "    t2.start()\n",
    "    t1.join()\n",
    "    t2.join()"
   ]
  },
  {
   "cell_type": "markdown",
   "id": "11533a38-a861-4b38-80ba-1ebae6acee52",
   "metadata": {},
   "source": [
    "### Q5 State advantages and disadvantages of multithreading.|"
   ]
  },
  {
   "cell_type": "code",
   "execution_count": 16,
   "id": "17d07ea8-4637-431f-85d1-a3e638f73a95",
   "metadata": {},
   "outputs": [
    {
     "data": {
      "text/plain": [
       "'Python multithreading enables efficient utilization of the resources as the threads share the data space and memory. Multithreading in Python allows the concurrent and parallel occurrence of various tasks. It causes a reduction in time consumption or response time, thereby increasing the performance.'"
      ]
     },
     "execution_count": 16,
     "metadata": {},
     "output_type": "execute_result"
    }
   ],
   "source": [
    "# Advantage\n",
    "\"\"\"Python multithreading enables efficient utilization of the resources as the threads share the data space and memory. Multithreading in Python allows the concurrent and parallel occurrence of various tasks. It causes a reduction in time consumption or response time, thereby increasing the performance.\"\"\""
   ]
  },
  {
   "cell_type": "code",
   "execution_count": 17,
   "id": "e61d900e-0366-465f-808c-44ad3353663e",
   "metadata": {},
   "outputs": [
    {
     "data": {
      "text/plain": [
       "'You should also note that threading comes with the overhead associated with managing the threads and therefore you should avoid using them for basic tasks. Additionally, they also increase the complexity of the program which means that debugging may become a little bit tricky.'"
      ]
     },
     "execution_count": 17,
     "metadata": {},
     "output_type": "execute_result"
    }
   ],
   "source": [
    "# Disadvantage\n",
    "\"\"\"You should also note that threading comes with the overhead associated with managing the threads and therefore you should avoid using them for basic tasks. Additionally, they also increase the complexity of the program which means that debugging may become a little bit tricky.\"\"\""
   ]
  },
  {
   "cell_type": "markdown",
   "id": "a528fa5c-f71c-4333-a2d9-f405c293fa69",
   "metadata": {},
   "source": [
    "### Q6 Explain deadlocks and race conditions."
   ]
  },
  {
   "cell_type": "code",
   "execution_count": null,
   "id": "21798c16-1ecb-462e-9be2-31276239029c",
   "metadata": {},
   "outputs": [],
   "source": []
  }
 ],
 "metadata": {
  "kernelspec": {
   "display_name": "Python 3 (ipykernel)",
   "language": "python",
   "name": "python3"
  },
  "language_info": {
   "codemirror_mode": {
    "name": "ipython",
    "version": 3
   },
   "file_extension": ".py",
   "mimetype": "text/x-python",
   "name": "python",
   "nbconvert_exporter": "python",
   "pygments_lexer": "ipython3",
   "version": "3.10.8"
  }
 },
 "nbformat": 4,
 "nbformat_minor": 5
}
